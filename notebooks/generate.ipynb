{
 "cells": [
  {
   "cell_type": "code",
   "execution_count": 31,
   "metadata": {},
   "outputs": [],
   "source": [
    "import sys\n",
    "sys.path.append('../src')"
   ]
  },
  {
   "cell_type": "code",
   "execution_count": 32,
   "metadata": {},
   "outputs": [],
   "source": [
    "import os\n",
    "import pickle"
   ]
  },
  {
   "cell_type": "code",
   "execution_count": 33,
   "metadata": {},
   "outputs": [],
   "source": [
    "import numpy as np\n",
    "import soundfile as sf"
   ]
  },
  {
   "cell_type": "code",
   "execution_count": 34,
   "metadata": {},
   "outputs": [],
   "source": [
    "from soundgenerator import SoundGenerator\n",
    "from autoencoder import VAE"
   ]
  },
  {
   "cell_type": "code",
   "execution_count": 35,
   "metadata": {},
   "outputs": [
    {
     "data": {
      "text/plain": [
       "False"
      ]
     },
     "execution_count": 35,
     "metadata": {},
     "output_type": "execute_result"
    }
   ],
   "source": [
    "from dotenv import load_dotenv\n",
    "load_dotenv()"
   ]
  },
  {
   "cell_type": "code",
   "execution_count": 36,
   "metadata": {},
   "outputs": [],
   "source": [
    "HOP_LENGTH = 256\n",
    "data_dir            = os.getenv('DATA_DIR')\n",
    "SPECTROGRAMS_PATH   = os.path.join(data_dir, 'spectrograms')\n",
    "MIN_MAX_VALUES_PATH = os.path.join(data_dir, 'fsdd/min_max_values.pkl') \n",
    "SAVE_DIR_ORIGINAL   = os.path.join(data_dir, 'original')\n",
    "SAVE_DIR_GENERATED  = os.path.join(data_dir, 'generated')\n",
    "MODEL_DIR           = os.path.join(data_dir, 'model')"
   ]
  },
  {
   "cell_type": "code",
   "execution_count": 37,
   "metadata": {
    "lines_to_next_cell": 1
   },
   "outputs": [],
   "source": [
    "os.makedirs(SAVE_DIR_ORIGINAL, exist_ok=True)\n",
    "os.makedirs(SAVE_DIR_GENERATED, exist_ok=True)"
   ]
  },
  {
   "cell_type": "code",
   "execution_count": 38,
   "metadata": {},
   "outputs": [],
   "source": [
    "def load_fsdd(spectrograms_path):\n",
    "    x_train = []\n",
    "    file_paths = []\n",
    "    for root, _, file_names in os.walk(spectrograms_path):\n",
    "        for file_name in file_names:\n",
    "            file_path = os.path.join(root, file_name)\n",
    "            spectrogram = np.load(file_path) # (n_bins, n_frames, 1)\n",
    "            x_train.append(spectrogram)\n",
    "            file_paths.append(file_path)\n",
    "    x_train = np.array(x_train)\n",
    "    x_train = x_train[..., np.newaxis] # -> (3000, 256, 64, 1)\n",
    "    return x_train, file_paths"
   ]
  },
  {
   "cell_type": "code",
   "execution_count": 39,
   "metadata": {},
   "outputs": [],
   "source": [
    "def select_spectrograms(spectrograms,\n",
    "                        file_paths,\n",
    "                        min_max_values,\n",
    "                        num_spectrograms=2):\n",
    "    sampled_indexes = np.random.choice(range(len(spectrograms)), num_spectrograms)\n",
    "    sampled_spectrogrmas = spectrograms[sampled_indexes]\n",
    "    for p in file_paths:\n",
    "        print(p)\n",
    "    file_paths = [file_paths[index] for index in sampled_indexes]\n",
    "    sampled_min_max_values = [min_max_values[file_path] for file_path in\n",
    "                           file_paths]\n",
    "    return sampled_spectrogrmas, sampled_min_max_values"
   ]
  },
  {
   "cell_type": "code",
   "execution_count": 40,
   "metadata": {},
   "outputs": [],
   "source": [
    "def save_signals(signals, save_dir, sample_rate=22050):\n",
    "    if not os.path.exists(save_dir):\n",
    "        os.makedirs(save_dir)\n",
    "    for i, signal in enumerate(signals):\n",
    "        save_path = os.path.join(save_dir, str(i) + \".wav\")\n",
    "        sf.write(save_path, signal, sample_rate)"
   ]
  },
  {
   "cell_type": "code",
   "execution_count": 41,
   "metadata": {
    "lines_to_next_cell": 1
   },
   "outputs": [],
   "source": [
    "def test_generate():\n",
    "    # initialise sound generator\n",
    "    vae = VAE.load(MODEL_DIR)\n",
    "    sound_generator = SoundGenerator(vae, HOP_LENGTH)\n",
    "\n",
    "    # load spectrograms + min max values\n",
    "    with open(MIN_MAX_VALUES_PATH, \"rb\") as f:\n",
    "        min_max_values = pickle.load(f)\n",
    "\n",
    "    specs, file_paths = load_fsdd(SPECTROGRAMS_PATH)\n",
    "\n",
    "    # sample spectrograms + min max values\n",
    "    sampled_specs, sampled_min_max_values = select_spectrograms(specs,\n",
    "                                                                file_paths,\n",
    "                                                                min_max_values,\n",
    "                                                                5)\n",
    "\n",
    "    # generate audio for sampled spectrograms\n",
    "    signals, _ = sound_generator.generate(sampled_specs,\n",
    "                                          sampled_min_max_values)\n",
    "\n",
    "    # convert spectrogram samples to audio\n",
    "    original_signals = sound_generator.convert_spectrograms_to_audio(\n",
    "        sampled_specs, sampled_min_max_values)\n",
    "\n",
    "    # save audio signals\n",
    "    save_signals(signals, SAVE_DIR_GENERATED)\n",
    "    save_signals(original_signals, SAVE_DIR_ORIGINAL)"
   ]
  },
  {
   "cell_type": "code",
   "execution_count": 42,
   "metadata": {
    "lines_to_next_cell": 1
   },
   "outputs": [],
   "source": [
    "def compare_signals(signals):\n",
    "    for i, signal in enumerate(signals):\n",
    "        print(f'Signal {i+1}: Mean={np.mean(signal)}, StdDev={np.std(signal)}')"
   ]
  },
  {
   "cell_type": "code",
   "execution_count": 43,
   "metadata": {},
   "outputs": [],
   "source": [
    "def generate_unique():\n",
    "    vae = VAE.load(MODEL_DIR)\n",
    "    sound_generator = SoundGenerator(vae, HOP_LENGTH)\n",
    "    signals = sound_generator.generate_unique(5)\n",
    "    compare_signals(signals)\n",
    "    save_signals(signals, SAVE_DIR_GENERATED)"
   ]
  },
  {
   "cell_type": "code",
   "execution_count": 44,
   "metadata": {},
   "outputs": [],
   "source": [
    "# test_generate()"
   ]
  },
  {
   "cell_type": "code",
   "execution_count": 46,
   "metadata": {},
   "outputs": [
    {
     "name": "stdout",
     "output_type": "stream",
     "text": [
      "random_seed (1, 128)\n"
     ]
    },
    {
     "name": "stderr",
     "output_type": "stream",
     "text": [
      "/usr/local/lib/python3.8/dist-packages/keras/engine/training_v1.py:2079: UserWarning: `Model.state_updates` will be removed in a future version. This property should not be used in TensorFlow 2.0, as `updates` are applied automatically.\n",
      "  updates=self.state_updates,\n"
     ]
    },
    {
     "name": "stdout",
     "output_type": "stream",
     "text": [
      "random_seed (1, 128)\n",
      "random_seed (1, 128)\n",
      "random_seed (1, 128)\n",
      "random_seed (1, 128)\n",
      "Signal 1: Mean=1.229337249242235e-05, StdDev=0.0010931624565273523\n",
      "Signal 2: Mean=1.2336155123193748e-05, StdDev=0.0011248858645558357\n",
      "Signal 3: Mean=1.2279801921977196e-05, StdDev=0.0010688917245715857\n",
      "Signal 4: Mean=1.2304808478802443e-05, StdDev=0.0011033909395337105\n",
      "Signal 5: Mean=1.232097656611586e-05, StdDev=0.0011184848845005035\n"
     ]
    }
   ],
   "source": [
    "generate_unique()\n",
    "   "
   ]
  }
 ],
 "metadata": {
  "jupytext": {
   "cell_metadata_filter": "-all",
   "main_language": "python",
   "notebook_metadata_filter": "-all"
  },
  "kernelspec": {
   "display_name": "Python 3",
   "language": "python",
   "name": "python3"
  }
 },
 "nbformat": 4,
 "nbformat_minor": 4
}
