{
 "cells": [
  {
   "cell_type": "code",
   "execution_count": 1,
   "id": "98a4c39f",
   "metadata": {},
   "outputs": [],
   "source": [
    "from dotenv import dotenv_values\n",
    "import subprocess as sp\n",
    "from os import environ, path, makedirs, getenv, listdir\n",
    "import secrets\n",
    "import shutil"
   ]
  },
  {
   "cell_type": "code",
   "execution_count": null,
   "id": "be2caaf0",
   "metadata": {
    "lines_to_next_cell": 1
   },
   "outputs": [],
   "source": [
    "data_dir = getenv('DATA_DIR')\n",
    "FILES_DIR = path.join(data_dir, 'input_files')"
   ]
  },
  {
   "cell_type": "code",
   "execution_count": null,
   "id": "f24e448f",
   "metadata": {
    "lines_to_next_cell": 1
   },
   "outputs": [],
   "source": [
    "def download(items, params):\n",
    "    run_name = params.get('run_name', None)\n",
    "    if run_name == None:\n",
    "        run_name = secrets.token_hex(4)\n",
    "\n",
    "    download_dir = FILES_DIR\n",
    "    # if not path.exists(download_dir):\n",
    "    #     makedirs(download_dir)\n",
    "\n",
    "    downloaded_files = []\n",
    "    for item in items:\n",
    "        name = item['NAME'].replace(' ', '_')\n",
    "        link = item['LINK']\n",
    "        ext = \".mp3\"\n",
    "\n",
    "        output_path = path.join(download_dir, name + ext)\n",
    "\n",
    "        command = [\n",
    "            'yt-dlp',\n",
    "            '-f', 'bestaudio/best',\n",
    "            '--extract-audio',\n",
    "            '--audio-format', 'mp3',\n",
    "            '-o', output_path,\n",
    "            link\n",
    "        ]\n",
    "\n",
    "        try:\n",
    "            print(f'Downloading file [{link}]...')\n",
    "            result = sp.run(command, check=True, stdout=sp.PIPE, stderr=sp.PIPE)\n",
    "            print(f\"File downloaded successfully to {output_path}\")\n",
    "            downloaded_files.append(output_path)\n",
    "        except sp.CalledProcessError as e:\n",
    "            print(f\"Error occurred with status code: {e.returncode}\")\n",
    "            print(f\"Stdout: {e.output}\")\n",
    "            print(f\"Stderr: {e.stderr}\")\n",
    "            exit(1)\n",
    "    \n",
    "    return downloaded_files"
   ]
  },
  {
   "cell_type": "code",
   "execution_count": null,
   "id": "bd553713",
   "metadata": {},
   "outputs": [],
   "source": [
    "def mv_file_test():\n",
    "    source_dir = '/data'\n",
    "    target_dir = '/tmp'\n",
    "\n",
    "    if path.exists(target_dir):\n",
    "        shutil.rmtree(target_dir)\n",
    "    shutil.copytree(source_dir, target_dir)"
   ]
  },
  {
   "cell_type": "code",
   "execution_count": null,
   "id": "3887a8fa",
   "metadata": {},
   "outputs": [],
   "source": [
    "if __name__ == \"__main__\":\n",
    "    # test\n",
    "    items = [{'NAME': 'genocide organ - leichenlinie', 'LINK': 'https://youtu.be/4oqxZvUGXe4?si=6ql80J4T04ZYfORh'}]\n",
    "    params = {}\n",
    "    download(items, params)"
   ]
  }
 ],
 "metadata": {
  "jupytext": {
   "cell_metadata_filter": "-all",
   "main_language": "python",
   "notebook_metadata_filter": "-all"
  },
  "kernelspec": {
   "display_name": "Python 3",
   "language": "python",
   "name": "python3"
  }
 },
 "nbformat": 4,
 "nbformat_minor": 5
}
